{
 "cells": [
  {
   "cell_type": "code",
   "execution_count": 109,
   "id": "5965cc72",
   "metadata": {},
   "outputs": [],
   "source": [
    "import pandas as pd\n",
    "from sqlalchemy import create_engine\n",
    "import mysql.connector\n",
    "\n",
    "# before running this script login to your local instance of your mysql database and use the following command to create a database in mysql server\n",
    "# use the following commands in cmd\n",
    "# mysql -u \"username\" -p\n",
    "# Enter your password and once you're logged in\n",
    "# create database edtechstartanalysis\n",
    "# USE restaurant_analysis\n",
    "\n",
    "hostname=\"localhost\"\n",
    "dbname=\"edtechstartanalysis\"\n",
    "uname=\"root\"\n",
    "pwd=\"mysql\"\n",
    "engine = create_engine(\"mysql+pymysql://{user}:{pw}@{host}/{db}\"\n",
    "                       .format(host=hostname, db=dbname, user=uname, pw=pwd))\n",
    "\n",
    "# Getting information using the below link mentioned\n",
    "df = pd.read_csv('https://raw.githubusercontent.com/PacktPublishing/Data-Visualization-Solutions-for-Beginners-/master/Section%206/Data/startup_funding.csv')\n",
    "df.to_sql(name='startupsinformation', con = engine, index=False, if_exists = 'append')\n",
    "#df.head()"
   ]
  }
 ],
 "metadata": {
  "kernelspec": {
   "display_name": "Python 3",
   "language": "python",
   "name": "python3"
  },
  "language_info": {
   "codemirror_mode": {
    "name": "ipython",
    "version": 3
   },
   "file_extension": ".py",
   "mimetype": "text/x-python",
   "name": "python",
   "nbconvert_exporter": "python",
   "pygments_lexer": "ipython3",
   "version": "3.8.5"
  }
 },
 "nbformat": 4,
 "nbformat_minor": 5
}
