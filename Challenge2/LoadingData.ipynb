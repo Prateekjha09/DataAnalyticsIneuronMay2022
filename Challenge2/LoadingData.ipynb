{
 "cells": [
  {
   "cell_type": "code",
   "execution_count": 21,
   "id": "0c81b939",
   "metadata": {},
   "outputs": [
    {
     "name": "stderr",
     "output_type": "stream",
     "text": [
      "C:\\Users\\jha09\\anaconda3\\lib\\site-packages\\pandas\\io\\sql.py:1444: UserWarning: The provided table name 'tAccounts' is not found exactly as such in the database after writing the table, possibly due to case sensitivity issues. Consider using lower case table names.\n",
      "  warnings.warn(msg, UserWarning)\n",
      "C:\\Users\\jha09\\anaconda3\\lib\\site-packages\\pandas\\io\\sql.py:1444: UserWarning: The provided table name 'tAlerts' is not found exactly as such in the database after writing the table, possibly due to case sensitivity issues. Consider using lower case table names.\n",
      "  warnings.warn(msg, UserWarning)\n",
      "C:\\Users\\jha09\\anaconda3\\lib\\site-packages\\pandas\\io\\sql.py:1444: UserWarning: The provided table name 'tTransactions' is not found exactly as such in the database after writing the table, possibly due to case sensitivity issues. Consider using lower case table names.\n",
      "  warnings.warn(msg, UserWarning)\n"
     ]
    }
   ],
   "source": [
    "import pandas as pd\n",
    "from sqlalchemy import create_engine\n",
    "\n",
    "# Just in case if you're running this script for the very first time, please login to your mysql database with correct details/login as showed \n",
    "# below and run a command \"DROP DATABASE FinancialCrimeAnalysis\" and then \"CREATE DATABASE FinancialCrimeAnalysis\"\n",
    "# then run this script finally.\n",
    "\n",
    "hostname=\"localhost\"\n",
    "dbname=\"FinancialCrimeAnalysis\"\n",
    "uname=\"root\"\n",
    "pwd=\"mysql\"\n",
    "\n",
    "engine = create_engine(\"mysql+pymysql://{user}:{pw}@{host}/{db}\"\n",
    "                       .format(host=hostname, db=dbname, user=uname, pw=pwd))\n",
    "\n",
    "df_accounts = pd.read_csv('AML/accounts.csv')\n",
    "df_alerts = pd.read_csv('AML/alerts.csv')\n",
    "df_transactions = pd.read_csv('AML/transactions.csv')\n",
    "\n",
    "df_accounts.to_sql('tAccounts', engine, index=False, if_exists = 'replace')\n",
    "df_alerts.to_sql('tAlerts', engine, index=False, if_exists = 'replace')\n",
    "df_transactions.to_sql('tTransactions', engine, index=False, if_exists = 'replace')\n",
    "\n"
   ]
  }
 ],
 "metadata": {
  "kernelspec": {
   "display_name": "Python 3",
   "language": "python",
   "name": "python3"
  },
  "language_info": {
   "codemirror_mode": {
    "name": "ipython",
    "version": 3
   },
   "file_extension": ".py",
   "mimetype": "text/x-python",
   "name": "python",
   "nbconvert_exporter": "python",
   "pygments_lexer": "ipython3",
   "version": "3.8.5"
  }
 },
 "nbformat": 4,
 "nbformat_minor": 5
}
