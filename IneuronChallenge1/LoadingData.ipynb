{
 "cells": [
  {
   "cell_type": "code",
   "execution_count": 5,
   "id": "f6c8ba00",
   "metadata": {},
   "outputs": [
    {
     "name": "stdout",
     "output_type": "stream",
     "text": [
      "Collecting pymysql\n",
      "  Downloading PyMySQL-1.0.2-py3-none-any.whl (43 kB)\n",
      "Installing collected packages: pymysql\n",
      "Successfully installed pymysql-1.0.2\n",
      "Note: you may need to restart the kernel to use updated packages.\n"
     ]
    }
   ],
   "source": [
    "# install this module just in case it is not available\n",
    "\n",
    "pip install pymysql"
   ]
  },
  {
   "cell_type": "code",
   "execution_count": 5,
   "id": "5965cc72",
   "metadata": {},
   "outputs": [
    {
     "name": "stderr",
     "output_type": "stream",
     "text": [
      "C:\\Users\\jha09\\anaconda3\\lib\\site-packages\\IPython\\core\\interactiveshell.py:3169: DtypeWarning: Columns (2) have mixed types.Specify dtype option on import or set low_memory=False.\n",
      "  has_raised = await self.run_ast_nodes(code_ast.body, cell_name,\n"
     ]
    }
   ],
   "source": [
    "import pandas as pd\n",
    "from sqlalchemy import create_engine\n",
    "\n",
    "\n",
    "hostname=\"localhost\"\n",
    "dbname=\"crime_data\"\n",
    "uname=\"root\"\n",
    "pwd=\"mysql\"\n",
    "engine = create_engine(\"mysql+pymysql://{user}:{pw}@{host}/{db}\"\n",
    "                       .format(host=hostname, db=dbname, user=uname, pw=pwd))\n",
    "\n",
    "df = pd.read_csv('Legacy_Baton_Rouge_Crime_Incidents.csv')\n",
    "ls = []\n",
    "for i in range(0,len(df)):\n",
    "    if '/' in df.iloc[i]['OFFENSE DATE']:\n",
    "        val = df.iloc[i]['OFFENSE DATE'].split('/')[1]+'/'+df.iloc[i]['OFFENSE DATE'].split('/')[0]+'/'+df.iloc[i]['OFFENSE DATE'].split('/')[2]\n",
    "        ls.append(val)\n",
    "    elif '-' in df.iloc[i]['OFFENSE DATE']:\n",
    "        val = df.iloc[i]['OFFENSE DATE'].split('-')[0]+'/'+df.iloc[i]['OFFENSE DATE'].split('-')[1]+'/'+df.iloc[i]['OFFENSE DATE'].split('-')[2]\n",
    "        ls.append(val)\n",
    "        \n",
    "    \n",
    "df['OFFENSE DATE'] = ls\n",
    "df.rename({'FILE NUMBER':'FileNumber','OFFENSE DATE':'OffenseDate','OFFENSE TIME':'OffenseTime',\n",
    "          'CRIME':'Crime','COMMITTED':'Committed','OFFENSE':'Offense','OFFENSE DESCRIPTION':'OffenseDescription',\n",
    "          'FULL ADDRESS':'FullAddress','ADDRESS NUMBER':'AddressNumber','STREET DIRECTION':'StreetDirection',\n",
    "          'STREET NAME':'StreetName','STREET TYPE':'StreetType','CITY':'City','STATE':'State','ZIP CODE':'ZipCode','DISTRICT':'District'\n",
    "          ,'ZONE':'Zone','SUBZONE':'SubZone','COMPLETE DISTRICT':'CompleteDistrict','COUNCIL DISTRICT':'CouncilDistrict'\n",
    "          ,'CRIME PREVENTION DISTRICT':'CrimePreventionDistrict','GEOLOCATION':'GeoLocation'}, inplace=True)\n",
    "df.head()\n",
    "df.to_sql('batonrougecrime_rawdata', engine, index=False, if_exists = 'replace')\n"
   ]
  },
  {
   "cell_type": "code",
   "execution_count": 37,
   "id": "4e28ac3d",
   "metadata": {},
   "outputs": [
    {
     "name": "stdout",
     "output_type": "stream",
     "text": [
      "['FILE NUMBER' 'OFFENSE DATE' 'OFFENSE TIME' 'CRIME' 'COMMITTED' 'OFFENSE'\n",
      " 'OFFENSE DESCRIPTION' 'FULL ADDRESS' 'ADDRESS NUMBER' 'STREET DIRECTION'\n",
      " 'STREET NAME' 'STREET TYPE' 'CITY' 'STATE' 'ZIP CODE' 'DISTRICT' 'ZONE'\n",
      " 'SUBZONE' 'COMPLETE DISTRICT' 'COUNCIL DISTRICT'\n",
      " 'CRIME PREVENTION DISTRICT' 'GEOLOCATION' 'checkdate']\n"
     ]
    }
   ],
   "source": [
    "print(df.columns.values)"
   ]
  },
  {
   "cell_type": "code",
   "execution_count": null,
   "id": "713d6258",
   "metadata": {},
   "outputs": [],
   "source": []
  }
 ],
 "metadata": {
  "kernelspec": {
   "display_name": "Python 3",
   "language": "python",
   "name": "python3"
  },
  "language_info": {
   "codemirror_mode": {
    "name": "ipython",
    "version": 3
   },
   "file_extension": ".py",
   "mimetype": "text/x-python",
   "name": "python",
   "nbconvert_exporter": "python",
   "pygments_lexer": "ipython3",
   "version": "3.8.5"
  }
 },
 "nbformat": 4,
 "nbformat_minor": 5
}
